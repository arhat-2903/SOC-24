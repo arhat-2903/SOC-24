{
 "cells": [
  {
   "cell_type": "code",
   "execution_count": null,
   "id": "b634c323-f32e-451e-baef-dd79e0ff929f",
   "metadata": {},
   "outputs": [],
   "source": [
    "\n",
    "\n",
    "# 5. Predicting the prices\n",
    "train_predict = model.predict(X_train)\n",
    "test_predict = model.predict(X_test)\n",
    "\n",
    "# Invert predictions to original scale\n",
    "train_predict = scaler.inverse_transform(train_predict)\n",
    "test_predict = scaler.inverse_transform(test_predict)\n",
    "\n",
    "# 6. Plot the results\n",
    "train_plot = np.empty_like(data)\n",
    "train_plot[:, :] = np.nan\n",
    "train_plot[time_step:len(train_predict) + time_step, :] = train_predict\n",
    "\n",
    "test_plot = np.empty_like(data)\n",
    "test_plot[:, :] = np.nan\n",
    "test_plot[len(train_predict) + (time_step * 2) + 1:len(data) - 1, :] = test_predict\n",
    "\n",
    "plt.figure(figsize=(15, 6))\n",
    "plt.plot(scaler.inverse_transform(scaled_data), label='Original Data')\n",
    "plt.plot(train_plot, label='Train Prediction')\n",
    "plt.plot(test_plot, label='Test Prediction')\n",
    "plt.legend()\n",
    "plt.show()\n",
    "\n",
    "# Predict the next day and week prices\n",
    "last_60_days = scaled_data[-60:]\n",
    "X_input = last_60_days.reshape(1, -1)\n",
    "X_input = X_input.reshape((1, time_step, 1))\n",
    "\n",
    "# Next day prediction\n",
    "next_day_price = model.predict(X_input)\n",
    "next_day_price = scaler.inverse_transform(next_day_price)\n",
    "print(f\"Next day price prediction: {next_day_price[0][0]}\")\n",
    "\n",
    "# Next week prediction\n",
    "next_week_prices = []\n",
    "current_input = X_input\n",
    "\n",
    "for _ in range(7):\n",
    "    next_price = model.predict(current_input)\n",
    "    next_week_prices.append(scaler.inverse_transform(next_price)[0][0])\n",
    "    current_input = np.append(current_input[:, 1:, :], next_price.reshape(1, 1, 1), axis=1)\n",
    "\n",
    "print(f\"Next week price predictions: {next_week_prices}\")\n",
    "\n",
    "# 7. Brief report\n",
    "print(\"\\nBrief Report:\")\n",
    "print(f\"Stock Symbol: {stock_symbol}\")\n",
    "print(f\"Data Period: {stock_data.index.min()} to {stock_data.index.max()}\")\n",
    "print(f\"GRU Model Architecture: {model.summary()}\")\n",
    "print(f\"Train size: {train_size}, Test size: {test_size}\")\n",
    "print(f\"Time step for training: {time_step}\")\n"
   ]
  },
  {
   "cell_type": "code",
   "execution_count": 1,
   "id": "94fe7f8e-7d47-40fb-bfbf-f60ef04720c5",
   "metadata": {},
   "outputs": [],
   "source": [
    "import pandas as pd\n",
    "import numpy as np\n",
    "import yfinance as yf\n",
    "import matplotlib.pyplot as plt"
   ]
  },
  {
   "cell_type": "code",
   "execution_count": 2,
   "id": "08d238c1-41d2-45c2-b9e1-3b0db0f126fe",
   "metadata": {},
   "outputs": [],
   "source": [
    "from sklearn.preprocessing import MinMaxScaler\n",
    "from tensorflow.keras.models import Sequential\n",
    "from tensorflow.keras.layers import GRU, Dense"
   ]
  },
  {
   "cell_type": "code",
   "execution_count": 3,
   "id": "590b8c8e-b51d-48e6-8f37-047901e5b4d2",
   "metadata": {},
   "outputs": [
    {
     "name": "stderr",
     "output_type": "stream",
     "text": [
      "[*********************100%%**********************]  1 of 1 completed\n"
     ]
    }
   ],
   "source": [
    "# 1. Load the stock data\n",
    "stock_symbol = 'AAPL'  # Apple Inc. as an example\n",
    "stock_data = yf.download(stock_symbol, start='2000-01-01')\n",
    "\n",
    "# 2. Prepare the dataset\n",
    "data = stock_data['Close'].values.reshape(-1, 1)\n",
    "\n",
    "# Scale the data\n",
    "scaler = MinMaxScaler()\n",
    "scaled_data = scaler.fit_transform(data)\n",
    "\n",
    "# Prepare the training dataset\n",
    "def create_dataset(dataset, time_step=1):\n",
    "    X, y = [], []\n",
    "    for i in range(len(dataset) - time_step - 1):\n",
    "        a = dataset[i:(i + time_step), 0]\n",
    "        X.append(a)\n",
    "        y.append(dataset[i + time_step, 0])\n",
    "    return np.array(X), np.array(y)\n",
    "\n",
    "time_step = 60\n",
    "X, y = create_dataset(scaled_data, time_step)\n",
    "\n",
    "# Reshape input to be [samples, time steps, features]\n",
    "X = X.reshape(X.shape[0], X.shape[1], 1)\n",
    "\n",
    "# Split into training and test sets\n",
    "train_size = int(len(X) * 0.8)\n",
    "test_size = len(X) - train_size\n",
    "X_train, X_test = X[:train_size], X[train_size:]\n",
    "y_train, y_test = y[:train_size], y[train_size:]\n"
   ]
  },
  {
   "cell_type": "code",
   "execution_count": 4,
   "id": "9befe461-0db4-45a7-b17a-8f09809bd712",
   "metadata": {},
   "outputs": [],
   "source": [
    "# 3. Build the GRU model\n",
    "model = Sequential()\n",
    "model.add(GRU(50, return_sequences=True, input_shape=(time_step, 1)))\n",
    "model.add(GRU(50, return_sequences=False))\n",
    "model.add(Dense(25))\n",
    "model.add(Dense(1))\n",
    "\n",
    "model.compile(optimizer='adam', loss='mean_squared_error')\n"
   ]
  },
  {
   "cell_type": "code",
   "execution_count": 5,
   "id": "08b4939d-7a81-42ac-ad5a-f988ca568cd4",
   "metadata": {},
   "outputs": [
    {
     "name": "stdout",
     "output_type": "stream",
     "text": [
      "4884/4884 [==============================] - 127s 25ms/step - loss: 4.7159e-05\n"
     ]
    },
    {
     "data": {
      "text/plain": [
       "<keras.callbacks.History at 0x2e99a42b610>"
      ]
     },
     "execution_count": 5,
     "metadata": {},
     "output_type": "execute_result"
    }
   ],
   "source": [
    "# 4. Train the model\n",
    "model.fit(X_train, y_train, batch_size=1, epochs=1)"
   ]
  },
  {
   "cell_type": "code",
   "execution_count": null,
   "id": "98e7dc59-d439-4369-9e8e-d969a8454c35",
   "metadata": {},
   "outputs": [],
   "source": []
  }
 ],
 "metadata": {
  "kernelspec": {
   "display_name": "Python 3 (ipykernel)",
   "language": "python",
   "name": "python3"
  },
  "language_info": {
   "codemirror_mode": {
    "name": "ipython",
    "version": 3
   },
   "file_extension": ".py",
   "mimetype": "text/x-python",
   "name": "python",
   "nbconvert_exporter": "python",
   "pygments_lexer": "ipython3",
   "version": "3.10.13"
  }
 },
 "nbformat": 4,
 "nbformat_minor": 5
}
